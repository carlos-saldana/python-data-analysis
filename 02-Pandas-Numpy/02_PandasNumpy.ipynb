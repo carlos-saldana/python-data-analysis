{
 "cells": [
  {
   "cell_type": "markdown",
   "id": "d254f26d-a97a-4478-a303-60c62d0d8f57",
   "metadata": {},
   "source": [
    "### CURSO DE MANIPULACIÓN Y TRANSFORMACIÓN DE DATOS CON PANDAS Y NUMPY"
   ]
  },
  {
   "cell_type": "code",
   "execution_count": 2,
   "id": "c9e4c2b2-82e5-4181-8aa4-75f465887253",
   "metadata": {
    "tags": []
   },
   "outputs": [],
   "source": [
    "#Importamos las librerías a emplear\n",
    "import numpy as np\n",
    "import pandas as pd"
   ]
  },
  {
   "cell_type": "code",
   "execution_count": 21,
   "id": "d2360c10-4343-421c-b09b-32b2571253a6",
   "metadata": {
    "tags": []
   },
   "outputs": [
    {
     "name": "stdout",
     "output_type": "stream",
     "text": [
      "Lista:  [1, 2, 3, 4, 5, 6, 7, 8, 9]\n",
      "Tipo de dato:  <class 'list'>\n"
     ]
    }
   ],
   "source": [
    "#Empezamos creando una lista de Python\n",
    "ls = [1, 2, 3, 4, 5, 6, 7, 8, 9]\n",
    "print(\"Lista: \", ls)\n",
    "print(\"Tipo de dato: \", type(ls))"
   ]
  },
  {
   "cell_type": "code",
   "execution_count": 22,
   "id": "e3e19b26-dcc1-4188-b3d8-95b2a2bbe622",
   "metadata": {
    "tags": []
   },
   "outputs": [
    {
     "name": "stdout",
     "output_type": "stream",
     "text": [
      "Array:  [1 2 3 4 5 6 7 8 9]\n",
      "Tipo de dato:  <class 'numpy.ndarray'>\n"
     ]
    }
   ],
   "source": [
    "#Creamos un array con Numpy\n",
    "arr = np.array(ls)\n",
    "print(\"Array: \", arr)\n",
    "print(\"Tipo de dato: \", type(arr))"
   ]
  },
  {
   "cell_type": "code",
   "execution_count": 26,
   "id": "e38117d4-c035-455f-8089-947b3f1eafa4",
   "metadata": {
    "tags": []
   },
   "outputs": [
    {
     "name": "stdout",
     "output_type": "stream",
     "text": [
      "Matriz:  [[1, 2, 3], [4, 5, 6], [7, 8, 9]]\n",
      "Tipo de dato:  <class 'list'>\n"
     ]
    }
   ],
   "source": [
    "#Trabajamos con una matriz (sigue siendo una lista de python)\n",
    "matrix = [[1, 2, 3], [4, 5, 6], [7, 8, 9]]\n",
    "print(\"Matriz: \", matrix)\n",
    "print(\"Tipo de dato: \", type(matrix))"
   ]
  },
  {
   "cell_type": "code",
   "execution_count": 27,
   "id": "04d6e30d-4ce9-4289-953f-a3d22b7a4908",
   "metadata": {
    "tags": []
   },
   "outputs": [
    {
     "name": "stdout",
     "output_type": "stream",
     "text": [
      "Matriz:  [[1 2 3]\n",
      " [4 5 6]\n",
      " [7 8 9]]\n",
      "Tipo de dato:  <class 'numpy.ndarray'>\n"
     ]
    }
   ],
   "source": [
    "#Lo pasamos a un array\n",
    "mat = np.array(matrix)\n",
    "print(\"Matriz: \", mat)\n",
    "print(\"Tipo de dato: \", type(mat))"
   ]
  },
  {
   "cell_type": "code",
   "execution_count": 29,
   "id": "2b257adf-7366-47d2-aa0c-6195d080af00",
   "metadata": {
    "tags": []
   },
   "outputs": [
    {
     "name": "stdout",
     "output_type": "stream",
     "text": [
      "Valor en el índice 0: 1\n",
      "arr[1]+arr[4]= 7\n"
     ]
    }
   ],
   "source": [
    "#Accedemos mediante índices\n",
    "print(\"Valor en el índice 0:\", arr[0])\n",
    "print(\"arr[1]+arr[4]=\", arr[1] + arr[4])"
   ]
  },
  {
   "cell_type": "code",
   "execution_count": 38,
   "id": "15806fea-24df-440d-a744-29bd9b881fd5",
   "metadata": {
    "tags": []
   },
   "outputs": [
    {
     "name": "stdout",
     "output_type": "stream",
     "text": [
      "Accedemos a la 1ra fila: [1 2 3]\n",
      "Accedemos al valor [0][2]: 3\n",
      "Accedemos al valor [:][2]: [3 6 9]\n",
      "Accedemos al valor [1][1:]: [5 6]\n",
      "Accedemos al valor [-1][2]: 9\n"
     ]
    }
   ],
   "source": [
    "#Otros ejemplos\n",
    "print(\"Accedemos a la 1ra fila:\", mat[0])\n",
    "print(\"Accedemos al valor [0][2]:\", mat[0, 2])\n",
    "print(\"Accedemos al valor [:][2]:\", mat[:, 2])\n",
    "print(\"Accedemos al valor [1][1:]:\", mat[1, 1:])\n",
    "print(\"Accedemos al valor [-1][2]:\", mat[-1, 2])"
   ]
  },
  {
   "cell_type": "markdown",
   "id": "9d25a918-ffe3-4123-86ef-06c81e7f8f95",
   "metadata": {},
   "source": [
    "#### TIPO DE DATOS"
   ]
  },
  {
   "cell_type": "code",
   "execution_count": 50,
   "id": "4eb5c678-f053-4fec-a9b4-5958eb01dd6a",
   "metadata": {
    "tags": []
   },
   "outputs": [
    {
     "data": {
      "text/plain": [
       "dtype('int32')"
      ]
     },
     "execution_count": 50,
     "metadata": {},
     "output_type": "execute_result"
    }
   ],
   "source": [
    "#Definimos un nuevo array\n",
    "arr = np.array([1, 2, 3, 4])\n",
    "arr.dtype"
   ]
  },
  {
   "cell_type": "code",
   "execution_count": 51,
   "id": "2326fbb6-a6e7-4079-9bdf-61c2bbb4bd5f",
   "metadata": {
    "tags": []
   },
   "outputs": [
    {
     "data": {
      "text/plain": [
       "dtype('float64')"
      ]
     },
     "execution_count": 51,
     "metadata": {},
     "output_type": "execute_result"
    }
   ],
   "source": [
    "#Declaramos un array con un tipo de dato específico\n",
    "arr = np.array([1, 2, 3, 4], dtype='float64')\n",
    "arr.dtype"
   ]
  },
  {
   "cell_type": "code",
   "execution_count": 52,
   "id": "bf71ba47-a959-41b0-975c-7ba162651155",
   "metadata": {
    "tags": []
   },
   "outputs": [
    {
     "data": {
      "text/plain": [
       "array([1, 2, 3, 4])"
      ]
     },
     "execution_count": 52,
     "metadata": {},
     "output_type": "execute_result"
    }
   ],
   "source": [
    "#Cambiamos el tipo de dato de nuestro array a int32\n",
    "arr = arr.astype(np.int32)\n",
    "arr"
   ]
  },
  {
   "cell_type": "code",
   "execution_count": 53,
   "id": "3aec5333-359e-49cf-a1b3-2ecefd36429f",
   "metadata": {
    "tags": []
   },
   "outputs": [
    {
     "data": {
      "text/plain": [
       "array([False,  True,  True,  True,  True])"
      ]
     },
     "execution_count": 53,
     "metadata": {},
     "output_type": "execute_result"
    }
   ],
   "source": [
    "#Cambiamos el tipo de dato a booleano\n",
    "arr = np.array([0, 1, 2, 3, 4])\n",
    "arr = arr.astype(np.bool_)\n",
    "arr"
   ]
  },
  {
   "cell_type": "code",
   "execution_count": 54,
   "id": "dad7ef30-a663-4b07-b005-d0d5ee071871",
   "metadata": {
    "tags": []
   },
   "outputs": [
    {
     "data": {
      "text/plain": [
       "array([b'0', b'1', b'2', b'3', b'4'], dtype='|S11')"
      ]
     },
     "execution_count": 54,
     "metadata": {},
     "output_type": "execute_result"
    }
   ],
   "source": [
    "#Cambiamos el tipo de dato a string\n",
    "arr = np.array([0, 1, 2, 3, 4])\n",
    "arr = arr.astype(np.string_)\n",
    "arr"
   ]
  },
  {
   "cell_type": "code",
   "execution_count": 55,
   "id": "ce34c274-a431-4ddd-89d6-634349335b29",
   "metadata": {
    "tags": []
   },
   "outputs": [
    {
     "data": {
      "text/plain": [
       "array([0, 1, 2, 3, 4], dtype=int8)"
      ]
     },
     "execution_count": 55,
     "metadata": {},
     "output_type": "execute_result"
    }
   ],
   "source": [
    "#Cambiamos el tipo de dato a número\n",
    "arr = arr.astype(np.int8)\n",
    "arr"
   ]
  },
  {
   "cell_type": "markdown",
   "id": "72e1ed37-b111-443d-a244-dd7c4b9d7d93",
   "metadata": {},
   "source": [
    "#### DIMENSIONES"
   ]
  },
  {
   "cell_type": "code",
   "execution_count": 75,
   "id": "48e39839-9d4d-44cf-80c7-bc2148bfb4af",
   "metadata": {
    "tags": []
   },
   "outputs": [
    {
     "name": "stdout",
     "output_type": "stream",
     "text": [
      "Escalar: 6\n",
      "Dimention: 0\n"
     ]
    }
   ],
   "source": [
    "#Escalar: Un solo dato o valor\n",
    "scalar = np.array(6)\n",
    "print(\"Escalar:\", scalar)\n",
    "print(\"Dimention:\", scalar.ndim)"
   ]
  },
  {
   "cell_type": "code",
   "execution_count": 76,
   "id": "474ae12d-403a-4dc3-8ed1-cbfd70b9ff18",
   "metadata": {
    "tags": []
   },
   "outputs": [
    {
     "name": "stdout",
     "output_type": "stream",
     "text": [
      "Vector: [1. 2. 3.]\n",
      "Dimention: 1\n"
     ]
    }
   ],
   "source": [
    "#Vector: Listas de Python\n",
    "vector = np.array([1, 2, 3], dtype=\"float64\")\n",
    "print(\"Vector:\", vector)\n",
    "print(\"Dimention:\", vector.ndim)"
   ]
  },
  {
   "cell_type": "code",
   "execution_count": 77,
   "id": "0c834e28-6331-4ca3-8aaa-64b4d9d5f77f",
   "metadata": {
    "tags": []
   },
   "outputs": [
    {
     "name": "stdout",
     "output_type": "stream",
     "text": [
      "Matriz: [[1 2 3]\n",
      " [4 5 6]\n",
      " [7 8 9]]\n",
      "Dimention: 2\n"
     ]
    }
   ],
   "source": [
    "#Matriz: Hoja de cálculo\n",
    "matrix = np.array([[1, 2, 3], [4, 5, 6], [7, 8, 9]])\n",
    "print(\"Matriz:\", matrix)\n",
    "print(\"Dimention:\", matrix.ndim)"
   ]
  },
  {
   "cell_type": "code",
   "execution_count": 78,
   "id": "e10da4fe-82a7-4282-bf21-ab4507f24e87",
   "metadata": {
    "tags": []
   },
   "outputs": [
    {
     "name": "stdout",
     "output_type": "stream",
     "text": [
      "Tensor: [[[ 1  2  3]\n",
      "  [ 4  5  6]\n",
      "  [ 7  8  9]\n",
      "  [10 11 12]]\n",
      "\n",
      " [[13 13 15]\n",
      "  [16 17 18]\n",
      "  [19 20 21]\n",
      "  [22 23 24]]]\n",
      "Dimention: 3\n"
     ]
    }
   ],
   "source": [
    "#Tensor: Series de tiempo o imágenes\n",
    "tensor = np.array([[[1, 2, 3], [4, 5, 6], [7, 8, 9], [10, 11, 12]],\n",
    "                   [[13, 13, 15], [16, 17, 18], [19, 20, 21], [22, 23, 24]]])\n",
    "print(\"Tensor:\", tensor)\n",
    "print(\"Dimention:\", tensor.ndim)"
   ]
  },
  {
   "cell_type": "code",
   "execution_count": 79,
   "id": "9477b19b-4c78-411f-add9-b0ca16a3ddec",
   "metadata": {
    "tags": []
   },
   "outputs": [
    {
     "name": "stdout",
     "output_type": "stream",
     "text": [
      "Array: [[[[[[[[[[1 2 3]]]]]]]]]]\n"
     ]
    }
   ],
   "source": [
    "#Definimos el número de dimensiones\n",
    "x = np.array([1, 2, 3], ndmin = 10)\n",
    "print(\"Array:\", x)"
   ]
  },
  {
   "cell_type": "code",
   "execution_count": 80,
   "id": "9f8de737-a233-4be6-9946-0c760ae19b57",
   "metadata": {
    "tags": []
   },
   "outputs": [
    {
     "name": "stdout",
     "output_type": "stream",
     "text": [
      "Array: [[1 2 3]]\n",
      "Dimention: 2\n"
     ]
    }
   ],
   "source": [
    "#Sumamos 1 dimensión para las filas\n",
    "expand = np.expand_dims(np.array([1, 2, 3]), axis=0)\n",
    "print(\"Array:\", expand)\n",
    "print(\"Dimention:\", expand.ndim)"
   ]
  },
  {
   "cell_type": "code",
   "execution_count": 74,
   "id": "075c0284-7ed2-4c10-9937-0c788cf2f87b",
   "metadata": {
    "tags": []
   },
   "outputs": [
    {
     "name": "stdout",
     "output_type": "stream",
     "text": [
      "[[1 2 3]] 2\n",
      "[1 2 3] 1\n"
     ]
    }
   ],
   "source": [
    "#Comprimimos al número necesario de dimensiones\n",
    "print(expand, expand.ndim) \n",
    "expand_2 = np.squeeze(expand)\n",
    "print(expand_2, expand_2.ndim)"
   ]
  },
  {
   "cell_type": "markdown",
   "id": "dc52b242-fd19-4a21-bf76-2ddf1ff3277d",
   "metadata": {},
   "source": [
    "#### CREACIÓN DE ARRAYS"
   ]
  },
  {
   "cell_type": "code",
   "execution_count": 82,
   "id": "1cae99f8-5118-42fa-9a5f-f86ec6d1d15f",
   "metadata": {
    "tags": []
   },
   "outputs": [
    {
     "data": {
      "text/plain": [
       "array([0, 1, 2, 3, 4, 5, 6, 7, 8, 9])"
      ]
     },
     "execution_count": 82,
     "metadata": {},
     "output_type": "execute_result"
    }
   ],
   "source": [
    "np.arange(0, 10)"
   ]
  },
  {
   "cell_type": "code",
   "execution_count": 83,
   "id": "c6ead725-7853-4176-b55e-6cbfdb240331",
   "metadata": {
    "tags": []
   },
   "outputs": [
    {
     "data": {
      "text/plain": [
       "array([0, 2, 4, 6, 8])"
      ]
     },
     "execution_count": 83,
     "metadata": {},
     "output_type": "execute_result"
    }
   ],
   "source": [
    "np.arange(0, 10, 2)"
   ]
  },
  {
   "cell_type": "code",
   "execution_count": 86,
   "id": "3e73c107-bc9c-4c63-9c76-92d849a14ed0",
   "metadata": {
    "tags": []
   },
   "outputs": [
    {
     "data": {
      "text/plain": [
       "array([0., 0., 0.])"
      ]
     },
     "execution_count": 86,
     "metadata": {},
     "output_type": "execute_result"
    }
   ],
   "source": [
    "np.zeros(3)"
   ]
  },
  {
   "cell_type": "code",
   "execution_count": 87,
   "id": "1a7182fe-5e7c-4040-afb7-b0ff80f9e177",
   "metadata": {
    "tags": []
   },
   "outputs": [
    {
     "data": {
      "text/plain": [
       "array([[0., 0., 0., 0., 0.],\n",
       "       [0., 0., 0., 0., 0.],\n",
       "       [0., 0., 0., 0., 0.],\n",
       "       [0., 0., 0., 0., 0.],\n",
       "       [0., 0., 0., 0., 0.],\n",
       "       [0., 0., 0., 0., 0.],\n",
       "       [0., 0., 0., 0., 0.],\n",
       "       [0., 0., 0., 0., 0.],\n",
       "       [0., 0., 0., 0., 0.],\n",
       "       [0., 0., 0., 0., 0.]])"
      ]
     },
     "execution_count": 87,
     "metadata": {},
     "output_type": "execute_result"
    }
   ],
   "source": [
    "np.zeros((10, 5))"
   ]
  },
  {
   "cell_type": "code",
   "execution_count": 88,
   "id": "a850f84f-0ae5-4fd2-b8e3-2cb76952bba8",
   "metadata": {
    "tags": []
   },
   "outputs": [
    {
     "data": {
      "text/plain": [
       "array([1., 1.])"
      ]
     },
     "execution_count": 88,
     "metadata": {},
     "output_type": "execute_result"
    }
   ],
   "source": [
    "np.ones(2)"
   ]
  },
  {
   "cell_type": "code",
   "execution_count": 89,
   "id": "23f12861-198d-459f-9d25-e70d36f55f2c",
   "metadata": {
    "tags": []
   },
   "outputs": [
    {
     "data": {
      "text/plain": [
       "array([[1., 1., 1., 1., 1., 1.],\n",
       "       [1., 1., 1., 1., 1., 1.],\n",
       "       [1., 1., 1., 1., 1., 1.],\n",
       "       [1., 1., 1., 1., 1., 1.]])"
      ]
     },
     "execution_count": 89,
     "metadata": {},
     "output_type": "execute_result"
    }
   ],
   "source": [
    "np.ones((4, 6))"
   ]
  },
  {
   "cell_type": "code",
   "execution_count": 90,
   "id": "161e23ec-a8da-4e31-8e0b-bee6e78966c5",
   "metadata": {
    "tags": []
   },
   "outputs": [
    {
     "data": {
      "text/plain": [
       "array([ 0. ,  2.5,  5. ,  7.5, 10. ])"
      ]
     },
     "execution_count": 90,
     "metadata": {},
     "output_type": "execute_result"
    }
   ],
   "source": [
    "#CREAMOS UN ARRAY DEFINIENDO UN INICIO, FINAL Y NÚMERO DE DIVISIONES\n",
    "np.linspace(0, 10, 5)"
   ]
  },
  {
   "cell_type": "code",
   "execution_count": 91,
   "id": "cb3f9664-4e5a-47b9-ae41-6ee34060dd2d",
   "metadata": {
    "tags": []
   },
   "outputs": [
    {
     "data": {
      "text/plain": [
       "array([[1., 0., 0., 0., 0.],\n",
       "       [0., 1., 0., 0., 0.],\n",
       "       [0., 0., 1., 0., 0.],\n",
       "       [0., 0., 0., 1., 0.],\n",
       "       [0., 0., 0., 0., 1.]])"
      ]
     },
     "execution_count": 91,
     "metadata": {},
     "output_type": "execute_result"
    }
   ],
   "source": [
    "#MATRIZ DIAGONAL\n",
    "np.eye(5)"
   ]
  },
  {
   "cell_type": "code",
   "execution_count": 92,
   "id": "19bcc884-da27-4ff6-871d-ed7f7ab9f414",
   "metadata": {
    "tags": []
   },
   "outputs": [
    {
     "data": {
      "text/plain": [
       "0.4856636805348883"
      ]
     },
     "execution_count": 92,
     "metadata": {},
     "output_type": "execute_result"
    }
   ],
   "source": [
    "#NÚMEROS ALEATORIOS\n",
    "np.random.rand()"
   ]
  },
  {
   "cell_type": "code",
   "execution_count": 93,
   "id": "dcab8011-0974-4f2e-bba0-adfb83315e12",
   "metadata": {
    "tags": []
   },
   "outputs": [
    {
     "data": {
      "text/plain": [
       "array([0.5463161 , 0.95059586, 0.95374912, 0.58018586])"
      ]
     },
     "execution_count": 93,
     "metadata": {},
     "output_type": "execute_result"
    }
   ],
   "source": [
    "#VECTORES ALEATORIOS\n",
    "np.random.rand(4)"
   ]
  },
  {
   "cell_type": "code",
   "execution_count": 94,
   "id": "3e82dad1-3874-4b5d-bee1-b7da3723c98c",
   "metadata": {
    "tags": []
   },
   "outputs": [
    {
     "data": {
      "text/plain": [
       "array([[0.12169381, 0.29542039, 0.28547597, 0.3797425 , 0.7975034 ],\n",
       "       [0.65174875, 0.41403071, 0.80503563, 0.81627149, 0.93103549],\n",
       "       [0.01940557, 0.12369107, 0.01985543, 0.00326161, 0.2586638 ],\n",
       "       [0.44228448, 0.40805546, 0.1991467 , 0.54569706, 0.39748257],\n",
       "       [0.57309175, 0.87298048, 0.46209241, 0.90316399, 0.20191642]])"
      ]
     },
     "execution_count": 94,
     "metadata": {},
     "output_type": "execute_result"
    }
   ],
   "source": [
    "#MATRICES ALEATORIAS\n",
    "np.random.rand(5, 5)"
   ]
  },
  {
   "cell_type": "code",
   "execution_count": 95,
   "id": "7e34903b-4fbc-46f0-9c67-c8ac20f8f693",
   "metadata": {
    "tags": []
   },
   "outputs": [
    {
     "data": {
      "text/plain": [
       "10"
      ]
     },
     "execution_count": 95,
     "metadata": {},
     "output_type": "execute_result"
    }
   ],
   "source": [
    "#NÚMERO ENTERO ALEATORIO ENTRE X & Y\n",
    "np.random.randint(1, 15)"
   ]
  },
  {
   "cell_type": "code",
   "execution_count": 96,
   "id": "a8914005-4b8f-4602-9c07-0b789a356c51",
   "metadata": {
    "tags": []
   },
   "outputs": [
    {
     "data": {
      "text/plain": [
       "array([[ 5,  1, 11],\n",
       "       [ 2,  8,  9],\n",
       "       [12,  4,  8]])"
      ]
     },
     "execution_count": 96,
     "metadata": {},
     "output_type": "execute_result"
    }
   ],
   "source": [
    "#HACEMOS LO ANTERIOR PARA UNA MATRIZ\n",
    "np.random.randint(1, 15, (3, 3))"
   ]
  },
  {
   "cell_type": "markdown",
   "id": "440d34a5-b20c-419d-b1dd-40a1ee839040",
   "metadata": {},
   "source": [
    "#### SHAPE AND RESHAPE"
   ]
  },
  {
   "cell_type": "code",
   "execution_count": 103,
   "id": "a49934ee-96d8-4bff-a8b7-02a8e6b11414",
   "metadata": {
    "tags": []
   },
   "outputs": [
    {
     "name": "stdout",
     "output_type": "stream",
     "text": [
      "Dimention: (3, 2)\n"
     ]
    },
    {
     "data": {
      "text/plain": [
       "array([[8, 2],\n",
       "       [3, 8],\n",
       "       [1, 9]])"
      ]
     },
     "execution_count": 103,
     "metadata": {},
     "output_type": "execute_result"
    }
   ],
   "source": [
    "#Creamos una matriz de 3x2\n",
    "arr = np.random.randint(1, 10, (3, 2))\n",
    "print(\"Dimention:\", arr.shape)\n",
    "arr"
   ]
  },
  {
   "cell_type": "code",
   "execution_count": 108,
   "id": "510e5cd3-fc4c-45e5-9ad5-eee553a3b493",
   "metadata": {
    "tags": []
   },
   "outputs": [
    {
     "data": {
      "text/plain": [
       "array([[8, 2, 3, 8, 1, 9]])"
      ]
     },
     "execution_count": 108,
     "metadata": {},
     "output_type": "execute_result"
    }
   ],
   "source": [
    "#Transformamos el arreglo\n",
    "arr.reshape(1, 6)\n",
    "#arr.reshape(2, 3)"
   ]
  },
  {
   "cell_type": "code",
   "execution_count": 109,
   "id": "132c028a-4ecb-48d3-b3ea-3f1db3a8ee91",
   "metadata": {
    "tags": []
   },
   "outputs": [
    {
     "data": {
      "text/plain": [
       "array([[8, 2, 3],\n",
       "       [8, 1, 9]])"
      ]
     },
     "execution_count": 109,
     "metadata": {},
     "output_type": "execute_result"
    }
   ],
   "source": [
    "#RESHAPE en \"C\"\n",
    "np.reshape(arr, (2, 3), 'C')"
   ]
  },
  {
   "cell_type": "code",
   "execution_count": 110,
   "id": "438b4e0f-adf6-4268-aa91-f959ed37488b",
   "metadata": {
    "tags": []
   },
   "outputs": [
    {
     "data": {
      "text/plain": [
       "array([[8, 1, 8],\n",
       "       [3, 2, 9]])"
      ]
     },
     "execution_count": 110,
     "metadata": {},
     "output_type": "execute_result"
    }
   ],
   "source": [
    "#RESHAPE en Fortran\n",
    "np.reshape(arr, (2, 3), 'F')"
   ]
  },
  {
   "cell_type": "code",
   "execution_count": 111,
   "id": "696fe52c-422a-4a27-9eb3-c264324251ec",
   "metadata": {
    "tags": []
   },
   "outputs": [
    {
     "data": {
      "text/plain": [
       "array([[8, 2, 3],\n",
       "       [8, 1, 9]])"
      ]
     },
     "execution_count": 111,
     "metadata": {},
     "output_type": "execute_result"
    }
   ],
   "source": [
    "#RESHAPE optimizado\n",
    "np.reshape(arr, (2, 3), 'A')"
   ]
  },
  {
   "cell_type": "markdown",
   "id": "a9006456-5641-4322-b17e-8a5a8f86bbd8",
   "metadata": {},
   "source": [
    "#### FUNCIONES PRINCIPALES"
   ]
  },
  {
   "cell_type": "code",
   "execution_count": 7,
   "id": "38c69150-4f4e-4c42-b3d8-0ea446d0652e",
   "metadata": {
    "tags": []
   },
   "outputs": [
    {
     "name": "stdout",
     "output_type": "stream",
     "text": [
      "Array: [15 13 13 13  1  7 16  2 18 12]\n",
      "Matriz: [[15 13 13 13  1]\n",
      " [ 7 16  2 18 12]]\n"
     ]
    }
   ],
   "source": [
    "#Definimos un array aleatorio\n",
    "x = np.random.randint(1, 20, 10)\n",
    "print(\"Array:\", x)\n",
    "\n",
    "y = x.reshape(2, 5)\n",
    "print(\"Matriz:\", y)"
   ]
  },
  {
   "cell_type": "code",
   "execution_count": 11,
   "id": "359236a4-5337-4e85-bbdf-394230cee717",
   "metadata": {
    "tags": []
   },
   "outputs": [
    {
     "name": "stdout",
     "output_type": "stream",
     "text": [
      "Valor máximo de x: 18\n",
      "Valor máximo de y (columnas): [15 16 13 18 12]\n"
     ]
    }
   ],
   "source": [
    "print(\"Valor máximo de x:\", x.max())\n",
    "print(\"Valor máximo de y (columnas):\", y.max(0))"
   ]
  },
  {
   "cell_type": "code",
   "execution_count": 14,
   "id": "7616e1a1-47b4-4adf-9b7c-76d1b758181e",
   "metadata": {
    "tags": []
   },
   "outputs": [
    {
     "name": "stdout",
     "output_type": "stream",
     "text": [
      "Posición del número mayor: 8\n"
     ]
    }
   ],
   "source": [
    "#Posición de un elemento\n",
    "print(\"Posición del número mayor:\", x.argmax())"
   ]
  },
  {
   "cell_type": "code",
   "execution_count": 16,
   "id": "630e97a3-1754-4181-8d54-44b9135911a5",
   "metadata": {
    "tags": []
   },
   "outputs": [
    {
     "name": "stdout",
     "output_type": "stream",
     "text": [
      "1\n",
      "4\n",
      "[ 7 13  2 13  1]\n",
      "[1 0 1 0 0]\n"
     ]
    }
   ],
   "source": [
    "#Más ejemplos\n",
    "print(x.min())\n",
    "print(x.argmin())\n",
    "print(y.min(0))\n",
    "print(y.argmin(0))"
   ]
  },
  {
   "cell_type": "code",
   "execution_count": 17,
   "id": "59a31e4b-f633-44d1-90f4-f2d257bfa736",
   "metadata": {
    "tags": []
   },
   "outputs": [
    {
     "data": {
      "text/plain": [
       "17"
      ]
     },
     "execution_count": 17,
     "metadata": {},
     "output_type": "execute_result"
    }
   ],
   "source": [
    "#Distancia entre el valor más bajo con el más alto\n",
    "x.ptp()"
   ]
  },
  {
   "cell_type": "markdown",
   "id": "81b79bea-e9bf-4ff9-8e45-6a8a13d3cd43",
   "metadata": {},
   "source": [
    "#### ANÁLISIS ESTADÍSTICO"
   ]
  },
  {
   "cell_type": "code",
   "execution_count": 19,
   "id": "02dc4277-4ab9-4825-a44d-e857df22a054",
   "metadata": {
    "tags": []
   },
   "outputs": [
    {
     "data": {
      "text/plain": [
       "array([ 1,  2,  7, 12, 13, 13, 13, 15, 16, 18])"
      ]
     },
     "execution_count": 19,
     "metadata": {},
     "output_type": "execute_result"
    }
   ],
   "source": [
    "#Ordenar los elementos\n",
    "x.sort()\n",
    "x"
   ]
  },
  {
   "cell_type": "code",
   "execution_count": 20,
   "id": "6fea76d9-fc29-40ec-acc0-bc5ed8e238bc",
   "metadata": {
    "tags": []
   },
   "outputs": [
    {
     "data": {
      "text/plain": [
       "13.0"
      ]
     },
     "execution_count": 20,
     "metadata": {},
     "output_type": "execute_result"
    }
   ],
   "source": [
    "#Obtener un percentil\n",
    "np.percentile(x, 50)"
   ]
  },
  {
   "cell_type": "code",
   "execution_count": 21,
   "id": "6c08357d-e0e4-4367-8f99-ccc7686de48c",
   "metadata": {
    "tags": []
   },
   "outputs": [
    {
     "data": {
      "text/plain": [
       "13.0"
      ]
     },
     "execution_count": 21,
     "metadata": {},
     "output_type": "execute_result"
    }
   ],
   "source": [
    "#Mediana\n",
    "np.median(x)"
   ]
  },
  {
   "cell_type": "code",
   "execution_count": 22,
   "id": "2923f652-de7f-45c7-a6d8-18a634c7007b",
   "metadata": {
    "tags": []
   },
   "outputs": [
    {
     "data": {
      "text/plain": [
       "5.477225575051661"
      ]
     },
     "execution_count": 22,
     "metadata": {},
     "output_type": "execute_result"
    }
   ],
   "source": [
    "#Desviación estándar\n",
    "np.std(x)"
   ]
  },
  {
   "cell_type": "code",
   "execution_count": 25,
   "id": "93deca9b-7a77-4871-bb13-8469e7d175b3",
   "metadata": {
    "tags": []
   },
   "outputs": [
    {
     "data": {
      "text/plain": [
       "array([36.  , 30.25, 16.  ,  4.  ,  6.25])"
      ]
     },
     "execution_count": 25,
     "metadata": {},
     "output_type": "execute_result"
    }
   ],
   "source": [
    "#Varianza\n",
    "np.var(y, 0)"
   ]
  },
  {
   "cell_type": "code",
   "execution_count": 26,
   "id": "3fe35aa2-dc6a-4e47-815a-7520547e5399",
   "metadata": {
    "tags": []
   },
   "outputs": [
    {
     "data": {
      "text/plain": [
       "array([ 7., 15.])"
      ]
     },
     "execution_count": 26,
     "metadata": {},
     "output_type": "execute_result"
    }
   ],
   "source": [
    "#Promedio\n",
    "np.mean(y, 1)"
   ]
  }
 ],
 "metadata": {
  "kernelspec": {
   "display_name": "Python 3 (ipykernel)",
   "language": "python",
   "name": "python3"
  },
  "language_info": {
   "codemirror_mode": {
    "name": "ipython",
    "version": 3
   },
   "file_extension": ".py",
   "mimetype": "text/x-python",
   "name": "python",
   "nbconvert_exporter": "python",
   "pygments_lexer": "ipython3",
   "version": "3.9.17"
  }
 },
 "nbformat": 4,
 "nbformat_minor": 5
}
